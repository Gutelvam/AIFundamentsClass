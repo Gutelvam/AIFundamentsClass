{
 "cells": [
  {
   "cell_type": "markdown",
   "metadata": {
    "id": "X7ypbiK8xi-V"
   },
   "source": [
    " # Introduction to search methods\n",
    "\n",
    " This notebook includes a simple implmentation of DFS and BFS uninformed search methods.\n",
    "\n",
    " **NOTE**:  Python code created by a generative AI Assistant from some web sources"
   ]
  },
  {
   "cell_type": "markdown",
   "metadata": {
    "id": "fQFsLY7SyGZi"
   },
   "source": [
    "### Depth-First-Search (DFS)"
   ]
  },
  {
   "cell_type": "code",
   "execution_count": 1,
   "metadata": {
    "executionInfo": {
     "elapsed": 275,
     "status": "ok",
     "timestamp": 1731145505154,
     "user": {
      "displayName": "Eurico Martins",
      "userId": "14125605227385409532"
     },
     "user_tz": 0
    },
    "id": "xjQwlC2gxkdk"
   },
   "outputs": [],
   "source": [
    "def dfs(graph, start_node):\n",
    "  \"\"\"\n",
    "  Performs a Depth-First Search (DFS) on a graph.\n",
    "\n",
    "  Args:\n",
    "    graph: A dictionary representing the graph where keys are nodes and values\n",
    "           are lists of their neighbors.\n",
    "    start_node: The node to start the DFS from.\n",
    "\n",
    "  Returns:\n",
    "    A list of nodes in the order they were visited during the DFS.\n",
    "  \"\"\"\n",
    "\n",
    "  visited = set()\n",
    "  traversal_order = []\n",
    "\n",
    "  def dfs_recursive(node):\n",
    "    visited.add(node)\n",
    "    traversal_order.append(node)\n",
    "\n",
    "    for neighbor in graph.get(node, []):\n",
    "      if neighbor not in visited:\n",
    "        dfs_recursive(neighbor)\n",
    "\n",
    "  dfs_recursive(start_node)\n",
    "  return traversal_order"
   ]
  },
  {
   "cell_type": "markdown",
   "metadata": {
    "id": "NMekrpFB7reG"
   },
   "source": [
    "### Breadth-First Search (BFS)"
   ]
  },
  {
   "cell_type": "code",
   "execution_count": 2,
   "metadata": {
    "id": "hgXYyDnE7gxB"
   },
   "outputs": [],
   "source": [
    "from collections import deque\n",
    "\n",
    "def bfs(graph, start_node):\n",
    "  \"\"\"\n",
    "  Performs a Breadth-First Search (BFS) on a graph.\n",
    "\n",
    "  Args:\n",
    "    graph: A dictionary representing the graph where keys are nodes and values\n",
    "           are lists of their neighbors.\n",
    "    start_node: The node to start the BFS from.\n",
    "\n",
    "  Returns:\n",
    "    A list of nodes in the order they were visited during the BFS.\n",
    "  \"\"\"\n",
    "\n",
    "  visited = set()\n",
    "  traversal_order = []\n",
    "  queue = deque([start_node])\n",
    "  visited.add(start_node)\n",
    "\n",
    "  while queue:\n",
    "    node = queue.popleft()\n",
    "    traversal_order.append(node)\n",
    "\n",
    "    for neighbor in graph.get(node, []):\n",
    "      if neighbor not in visited:\n",
    "        visited.add(neighbor)\n",
    "        queue.append(neighbor)\n",
    "\n",
    "  return traversal_order"
   ]
  },
  {
   "cell_type": "markdown",
   "metadata": {
    "id": "qaDSuOZj1-Sv"
   },
   "source": [
    "### Run DFS and BFS examples"
   ]
  },
  {
   "cell_type": "code",
   "execution_count": 3,
   "metadata": {
    "colab": {
     "base_uri": "https://localhost:8080/"
    },
    "executionInfo": {
     "elapsed": 6,
     "status": "ok",
     "timestamp": 1729938367983,
     "user": {
      "displayName": "Eurico Martins",
      "userId": "14125605227385409532"
     },
     "user_tz": -60
    },
    "id": "-eajISDr96TE",
    "outputId": "8351eba7-f053-47ad-9bfa-7184b7d47c3c"
   },
   "outputs": [
    {
     "name": "stdout",
     "output_type": "stream",
     "text": [
      "DFS traversal starting from A: ['A', 'B', 'D', 'G', 'E', 'F', 'C']\n",
      "BFS traversal starting from A: ['A', 'B', 'C', 'D', 'E', 'F', 'G']\n"
     ]
    }
   ],
   "source": [
    "# Example graph represented as an adjacency list\n",
    "graph = {\n",
    "    'A': ['B', 'C'],\n",
    "    'B': ['D', 'E'],\n",
    "    'C': ['F'],\n",
    "    'D': ['G'],\n",
    "    'E': ['F'],\n",
    "    'F': [],\n",
    "    'G': []\n",
    "}\n",
    "\n",
    "start_node = 'A'\n",
    "traversal_order = dfs(graph, start_node)\n",
    "print(f\"DFS traversal starting from {start_node}: {traversal_order}\")\n",
    "\n",
    "start_node = 'A'\n",
    "traversal_order = bfs(graph, start_node)\n",
    "print(f\"BFS traversal starting from {start_node}: {traversal_order}\")\n"
   ]
  },
  {
   "cell_type": "markdown",
   "metadata": {
    "id": "eu2jFTqYhLNY"
   },
   "source": [
    "---\n",
    "## Exercises\n"
   ]
  },
  {
   "cell_type": "markdown",
   "metadata": {
    "id": "g0iD7SLZ1zYy"
   },
   "source": [
    "### Exercise 01: Implement the DLS algorithm\n",
    "Based on the DFS code, implement a Depth-Limited Search (DLS) algorithm"
   ]
  },
  {
   "cell_type": "code",
   "execution_count": 4,
   "metadata": {
    "executionInfo": {
     "elapsed": 259,
     "status": "ok",
     "timestamp": 1731145311575,
     "user": {
      "displayName": "Eurico Martins",
      "userId": "14125605227385409532"
     },
     "user_tz": 0
    },
    "id": "5emgxFfAXla7"
   },
   "outputs": [],
   "source": [
    "# prompt: Based on the previous implementations, give me a dfs algorithm implementations\n",
    "\n",
    "def dls(graph, start_node, max_depth):\n",
    "    \"\"\"\n",
    "    Performs a Depth-Limited Search (DLS) on a graph.\n",
    "\n",
    "    Args:\n",
    "      graph: A dictionary representing the graph.\n",
    "      start_node: The starting node for the search.\n",
    "      max_depth: The maximum depth to explore.\n",
    "\n",
    "    Returns:\n",
    "      A list of nodes in the order they were visited, or None if the target\n",
    "      is not found within the depth limit.\n",
    "    \"\"\"\n",
    "    visited = set()\n",
    "    traversal_order = []\n",
    "\n",
    "    def dls_recursive(node, depth):\n",
    "        visited.add(node)\n",
    "        traversal_order.append(node)\n",
    "\n",
    "        if depth == max_depth:\n",
    "            return\n",
    "\n",
    "        for neighbor in graph.get(node, []):\n",
    "            if neighbor not in visited:\n",
    "                dls_recursive(neighbor, depth + 1)\n",
    "\n",
    "    dls_recursive(start_node, 0)\n",
    "    return traversal_order"
   ]
  },
  {
   "cell_type": "markdown",
   "metadata": {
    "id": "kxwXKwprS9Bc"
   },
   "source": [
    "Executions example"
   ]
  },
  {
   "cell_type": "code",
   "execution_count": 5,
   "metadata": {
    "colab": {
     "base_uri": "https://localhost:8080/"
    },
    "executionInfo": {
     "elapsed": 248,
     "status": "ok",
     "timestamp": 1731145387265,
     "user": {
      "displayName": "Eurico Martins",
      "userId": "14125605227385409532"
     },
     "user_tz": 0
    },
    "id": "v4oOszuxTAB7",
    "outputId": "9769cdeb-20c5-4f9f-c96f-14d0a0860b23"
   },
   "outputs": [
    {
     "name": "stdout",
     "output_type": "stream",
     "text": [
      "Travel order: ['A', 'B', 'D', 'E', 'C', 'F']\n"
     ]
    }
   ],
   "source": [
    "graph = {\n",
    "    'A': ['B', 'C'],\n",
    "    'B': ['D', 'E'],\n",
    "    'C': ['F'],\n",
    "    'D': ['G'],\n",
    "    'E': ['F'],\n",
    "    'F': [],\n",
    "    'G': []\n",
    "}\n",
    "\n",
    "start_node = 'A'\n",
    "\n",
    "travel_order = dls(graph, start_node, 2)\n",
    "print(f\"Travel order: {travel_order}\")"
   ]
  },
  {
   "cell_type": "markdown",
   "metadata": {
    "id": "4q7HGF2toPte"
   },
   "source": [
    "  ### Exercise 02: Define a goal state and print the shortest path to the goal\n",
    "Complete DFS and BFS implementation code:\n",
    "* Define a goal state\n",
    "* Get and print the shortest path to the goal"
   ]
  },
  {
   "cell_type": "code",
   "execution_count": 7,
   "metadata": {
    "id": "GS2fk2O9o6xd"
   },
   "outputs": [
    {
     "name": "stdout",
     "output_type": "stream",
     "text": [
      "DFS shortest path from A to F: ['A', 'C', 'F']\n",
      "BFS shortest path from A to F: ['A', 'C', 'F']\n"
     ]
    }
   ],
   "source": [
    "\n",
    "from collections import deque\n",
    "\n",
    "def dfs(graph, start_node, goal_node):\n",
    "    visited = set()\n",
    "    stack = [(start_node, [start_node])]  # Store path as well\n",
    "\n",
    "    while stack:\n",
    "        node, path = stack.pop()\n",
    "        if node == goal_node:\n",
    "            return path\n",
    "        visited.add(node)\n",
    "        for neighbor in graph.get(node, []):\n",
    "            if neighbor not in visited:\n",
    "                stack.append((neighbor, path + [neighbor]))\n",
    "    return None  # Goal not found\n",
    "\n",
    "\n",
    "def bfs(graph, start_node, goal_node):\n",
    "    visited = set()\n",
    "    queue = deque([(start_node, [start_node])])  # Store path\n",
    "\n",
    "    while queue:\n",
    "        node, path = queue.popleft()\n",
    "        if node == goal_node:\n",
    "            return path\n",
    "        visited.add(node)\n",
    "        for neighbor in graph.get(node, []):\n",
    "            if neighbor not in visited:\n",
    "                visited.add(neighbor)\n",
    "                queue.append((neighbor, path + [neighbor]))\n",
    "    return None  # Goal not found\n",
    "\n",
    "\n",
    "# Example graph\n",
    "graph = {\n",
    "    'A': ['B', 'C'],\n",
    "    'B': ['D', 'E'],\n",
    "    'C': ['F'],\n",
    "    'D': ['G'],\n",
    "    'E': ['F'],\n",
    "    'F': [],\n",
    "    'G': []\n",
    "}\n",
    "\n",
    "start_node = 'A'\n",
    "goal_node = 'F'  # Define the goal node\n",
    "\n",
    "dfs_path = dfs(graph, start_node, goal_node)\n",
    "print(f\"DFS shortest path from {start_node} to {goal_node}: {dfs_path}\")\n",
    "\n",
    "bfs_path = bfs(graph, start_node, goal_node)\n",
    "print(f\"BFS shortest path from {start_node} to {goal_node}: {bfs_path}\")"
   ]
  },
  {
   "cell_type": "markdown",
   "metadata": {
    "id": "2IqvE_A0CpsY"
   },
   "source": [
    "### Exercise 03: Implement the Uniform Cost Search algorithm\n",
    "\n",
    "Based on the DFS code, implement a Uniform Cost Search (UCS) algorithm"
   ]
  },
  {
   "cell_type": "code",
   "execution_count": null,
   "metadata": {
    "id": "Ge8okNweCw_x"
   },
   "outputs": [],
   "source": []
  }
 ],
 "metadata": {
  "colab": {
   "provenance": []
  },
  "kernelspec": {
   "display_name": "Python 3",
   "name": "python3"
  },
  "language_info": {
   "codemirror_mode": {
    "name": "ipython",
    "version": 3
   },
   "file_extension": ".py",
   "mimetype": "text/x-python",
   "name": "python",
   "nbconvert_exporter": "python",
   "pygments_lexer": "ipython3",
   "version": "3.13.0"
  }
 },
 "nbformat": 4,
 "nbformat_minor": 0
}
