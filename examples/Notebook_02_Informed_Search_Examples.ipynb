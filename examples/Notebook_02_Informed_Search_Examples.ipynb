{
 "cells": [
  {
   "cell_type": "markdown",
   "metadata": {
    "id": "X7ypbiK8xi-V"
   },
   "source": [
    " # Introduction to informed search methods\n",
    "\n",
    " This notebook does a simple implementation of **Greedy Search** and **A* Search** informed search methods.\n",
    "\n",
    " **Important note:**\n",
    "\n",
    "The Python code was created with the help of a generative AI assistant, so some fragments were drafted based on code taken from web."
   ]
  },
  {
   "cell_type": "code",
   "execution_count": 1,
   "metadata": {
    "id": "RHcFInixQL4c"
   },
   "outputs": [],
   "source": [
    "# This module provides an implementation of the heap queue algorithm\n",
    "import heapq"
   ]
  },
  {
   "cell_type": "markdown",
   "metadata": {
    "id": "X9fpwr9NRsnH"
   },
   "source": [
    "## 8 logic puzzle problem\n"
   ]
  },
  {
   "cell_type": "code",
   "execution_count": 11,
   "metadata": {
    "id": "qyLskuvRR31g"
   },
   "outputs": [],
   "source": [
    "# Example usage,\n",
    "initial_state = [1, 2, 0, 3, 4, 6, 7, 5, 8]\n",
    "# initial_state = [1, 2, 0, 3, 4, 6, 7, 5, 8]\n",
    "goal_state = [1, 2, 3, 4, 5, 6, 7, 8, 0]"
   ]
  },
  {
   "cell_type": "markdown",
   "metadata": {
    "id": "E6PIbiBsSQPx"
   },
   "source": [
    "## Heuristics\n"
   ]
  },
  {
   "cell_type": "code",
   "execution_count": 3,
   "metadata": {
    "id": "u4F-XUdNSe35"
   },
   "outputs": [],
   "source": [
    "# Calculates the number of tiles in the wrong position.\n",
    "def heuristic01 (state, goal_state):\n",
    "  count = 0\n",
    "  for i in range(len(state)):\n",
    "    if state[i] != goal_state[i]:\n",
    "      count += 1\n",
    "  return count\n",
    "\n",
    "# Calculates the Manhattan distance heuristic.\n",
    "def heuristic02 (state, goal_state):\n",
    "  distance = 0\n",
    "  for i in range(len(state)):\n",
    "    if state[i] != 0:\n",
    "      goal_index = goal_state.index(state[i])\n",
    "      goal_row, goal_col = divmod(goal_index, 3)\n",
    "      current_row, current_col = divmod(i, 3)\n",
    "      distance += abs(goal_row - current_row) + abs(goal_col - current_col)\n",
    "  return distance"
   ]
  },
  {
   "cell_type": "markdown",
   "metadata": {
    "id": "fQFsLY7SyGZi"
   },
   "source": [
    "### Greedy-Search"
   ]
  },
  {
   "cell_type": "code",
   "execution_count": 4,
   "metadata": {
    "id": "Ht8g4Zyhiqj9"
   },
   "outputs": [],
   "source": [
    "def greedy_search(initial_state, goal_state, heuristic):\n",
    "  \"\"\"\n",
    "  Performs a greedy search to solve the 8-puzzle.\n",
    "  Returns a list of moves to reach the goal state, or None if no solution is found.\n",
    "  \"\"\"\n",
    "\n",
    "  # Initializes queue and visited states set\n",
    "  priority_queue = [(heuristic(initial_state, goal_state), initial_state, [])]\n",
    "  visited = set()\n",
    "\n",
    "  while priority_queue:\n",
    "    _, current_state, path = heapq.heappop(priority_queue)\n",
    "\n",
    "    if current_state == goal_state:\n",
    "      return path\n",
    "\n",
    "    if tuple(current_state) in visited:\n",
    "      continue\n",
    "    visited.add(tuple(current_state))\n",
    "\n",
    "    # Generate possible moves\n",
    "    zero_index = current_state.index(0)\n",
    "    row, col = divmod(zero_index, 3)\n",
    "    possible_moves = []\n",
    "    if row > 0:\n",
    "      possible_moves.append(-3)  # Move up\n",
    "    if row < 2:\n",
    "      possible_moves.append(3)  # Move down\n",
    "    if col > 0:\n",
    "      possible_moves.append(-1)  # Move left\n",
    "    if col < 2:\n",
    "      possible_moves.append(1)  # Move right\n",
    "\n",
    "    # Executes the moves\n",
    "    for move in possible_moves:\n",
    "      new_state = current_state[:]\n",
    "      new_index = zero_index + move\n",
    "      new_state[zero_index], new_state[new_index] = new_state[new_index], new_state[zero_index]\n",
    "      new_path = path + [move]\n",
    "      heapq.heappush(priority_queue, (heuristic(new_state, goal_state),\n",
    "                                      new_state, new_path))\n",
    "\n",
    "  return None  # No solution found"
   ]
  },
  {
   "cell_type": "markdown",
   "metadata": {
    "id": "NMekrpFB7reG"
   },
   "source": [
    "### A* Search"
   ]
  },
  {
   "cell_type": "code",
   "execution_count": 5,
   "metadata": {
    "id": "ef44-WlqmaKD"
   },
   "outputs": [],
   "source": [
    "def a_star_search(initial_state, goal_state, heuristic):\n",
    "  \"\"\"\n",
    "  Performs an A* search to solve the 8-puzzle.\n",
    "  Returns a list of moves to reach the goal state, or None if no solution is found.\n",
    "  \"\"\"\n",
    "\n",
    "  # Calculates the cost of the path.\n",
    "  def path_cost(path):\n",
    "    return len(path)\n",
    "\n",
    "  # Initializes queue and visited states set\n",
    "  priority_queue = [(heuristic(initial_state, goal_state) + path_cost([]),\n",
    "                     heuristic(initial_state, goal_state), initial_state, [])]\n",
    "  print (priority_queue)\n",
    "  visited = set()\n",
    "\n",
    "  while priority_queue:\n",
    "    _, current_heuristic, current_state, path = heapq.heappop(priority_queue)\n",
    "\n",
    "    if current_state == goal_state:\n",
    "      return path\n",
    "\n",
    "    if tuple(current_state) in visited:\n",
    "      continue\n",
    "    visited.add(tuple(current_state))\n",
    "\n",
    "    # Generate possible moves\n",
    "    zero_index = current_state.index(0)\n",
    "    row, col = divmod(zero_index, 3)        # gets the (row, col) of cell 0\n",
    "    possible_moves = []\n",
    "    if row > 0:\n",
    "      possible_moves.append(-3)  # Move up\n",
    "    if row < 2:\n",
    "      possible_moves.append(3)  # Move down\n",
    "    if col > 0:\n",
    "      possible_moves.append(-1)  # Move left\n",
    "    if col < 2:\n",
    "      possible_moves.append(1)  # Move right\n",
    "\n",
    "    for move in possible_moves:\n",
    "      new_state = current_state[:]\n",
    "      new_index = zero_index + move\n",
    "      new_state[zero_index], new_state[new_index] = new_state[new_index], new_state[zero_index]\n",
    "      new_path = path + [move]\n",
    "      heapq.heappush(priority_queue, (heuristic(new_state, goal_state) + path_cost(new_path),\n",
    "                                      heuristic(new_state, goal_state), new_state, new_path))\n",
    "\n",
    "  return None  # No solution found\n"
   ]
  },
  {
   "cell_type": "markdown",
   "metadata": {},
   "source": [
    "# Weighted A* Search"
   ]
  },
  {
   "cell_type": "code",
   "execution_count": 13,
   "metadata": {},
   "outputs": [],
   "source": [
    "def weighted_a_star_search(initial_state, goal_state, heuristic, weight):\n",
    "  \"\"\"\n",
    "  Performs a weighted A* search to solve the 8-puzzle.\n",
    "  Returns a list of moves to reach the goal state, or None if no solution is found.\n",
    "  \"\"\"\n",
    "\n",
    "  def path_cost(path):\n",
    "    return len(path)\n",
    "\n",
    "  priority_queue = [(heuristic(initial_state, goal_state) + path_cost([]),\n",
    "                     heuristic(initial_state, goal_state), initial_state, [])]\n",
    "  visited = set()\n",
    "\n",
    "  while priority_queue:\n",
    "    _, current_heuristic, current_state, path = heapq.heappop(priority_queue)\n",
    "\n",
    "    if current_state == goal_state:\n",
    "      return path\n",
    "\n",
    "    if tuple(current_state) in visited:\n",
    "      continue\n",
    "    visited.add(tuple(current_state))\n",
    "\n",
    "    zero_index = current_state.index(0)\n",
    "    row, col = divmod(zero_index, 3)\n",
    "    possible_moves = []\n",
    "    if row > 0:\n",
    "      possible_moves.append(-3)\n",
    "    if row < 2:\n",
    "      possible_moves.append(3)\n",
    "    if col > 0:\n",
    "      possible_moves.append(-1)\n",
    "    if col < 2:\n",
    "      possible_moves.append(1)\n",
    "\n",
    "    for move in possible_moves:\n",
    "      new_state = current_state[:]\n",
    "      new_index = zero_index + move\n",
    "      new_state[zero_index], new_state[new_index] = new_state[new_index], new_state[zero_index]\n",
    "      new_path = path + [move]\n",
    "      heapq.heappush(priority_queue, (weight * heuristic(new_state, goal_state) + path_cost(new_path),\n",
    "                                      heuristic(new_state, goal_state), new_state, new_path))\n",
    "\n",
    "  return None"
   ]
  },
  {
   "cell_type": "markdown",
   "metadata": {
    "id": "qaDSuOZj1-Sv"
   },
   "source": [
    "### Print"
   ]
  },
  {
   "cell_type": "code",
   "execution_count": 6,
   "metadata": {
    "id": "4kmV106_jbL_"
   },
   "outputs": [],
   "source": [
    "# prompt: Develop an example that uses previous block greedy function.\n",
    "# Print the solution showing for each step the tile/number and the move name\n",
    "\n",
    "def print_solution(solution, initial_state):\n",
    "  \"\"\"Prints the solution path for the 8-puzzle.\"\"\"\n",
    "  current_state = initial_state[:]\n",
    "  print(\"Initial State:\")\n",
    "  print_puzzle(current_state)\n",
    "\n",
    "  move_names = {\n",
    "      -3: \"Up\",\n",
    "      3: \"Down\",\n",
    "      -1: \"Left\",\n",
    "      1: \"Right\"\n",
    "  }\n",
    "\n",
    "  for move in solution:\n",
    "    zero_index = current_state.index(0)\n",
    "    new_index = zero_index + move\n",
    "    current_state[zero_index], current_state[new_index] = current_state[new_index], current_state[zero_index]\n",
    "    print(f\"Move: {move_names[move]}\")\n",
    "    print_puzzle(current_state)\n",
    "\n",
    "\n",
    "def print_puzzle(state):\n",
    "  \"\"\"Prints the 8-puzzle state in a readable format.\"\"\"\n",
    "  for i in range(0, 9, 3):\n",
    "    print(state[i:i + 3])"
   ]
  },
  {
   "cell_type": "markdown",
   "metadata": {
    "id": "OlUIWcE0nfVv"
   },
   "source": [
    "### Run the algorithms"
   ]
  },
  {
   "cell_type": "code",
   "execution_count": 15,
   "metadata": {
    "collapsed": true,
    "id": "KKrerbzVm8ji"
   },
   "outputs": [
    {
     "name": "stdout",
     "output_type": "stream",
     "text": [
      "Solution found: \n",
      "Initial State:\n",
      "[1, 2, 0]\n",
      "[3, 4, 6]\n",
      "[7, 5, 8]\n",
      "Move: Down\n",
      "[1, 2, 6]\n",
      "[3, 4, 0]\n",
      "[7, 5, 8]\n",
      "Move: Left\n",
      "[1, 2, 6]\n",
      "[3, 0, 4]\n",
      "[7, 5, 8]\n",
      "Move: Left\n",
      "[1, 2, 6]\n",
      "[0, 3, 4]\n",
      "[7, 5, 8]\n",
      "Move: Up\n",
      "[0, 2, 6]\n",
      "[1, 3, 4]\n",
      "[7, 5, 8]\n",
      "Move: Right\n",
      "[2, 0, 6]\n",
      "[1, 3, 4]\n",
      "[7, 5, 8]\n",
      "Move: Down\n",
      "[2, 3, 6]\n",
      "[1, 0, 4]\n",
      "[7, 5, 8]\n",
      "Move: Right\n",
      "[2, 3, 6]\n",
      "[1, 4, 0]\n",
      "[7, 5, 8]\n",
      "Move: Up\n",
      "[2, 3, 0]\n",
      "[1, 4, 6]\n",
      "[7, 5, 8]\n",
      "Move: Left\n",
      "[2, 0, 3]\n",
      "[1, 4, 6]\n",
      "[7, 5, 8]\n",
      "Move: Left\n",
      "[0, 2, 3]\n",
      "[1, 4, 6]\n",
      "[7, 5, 8]\n",
      "Move: Down\n",
      "[1, 2, 3]\n",
      "[0, 4, 6]\n",
      "[7, 5, 8]\n",
      "Move: Right\n",
      "[1, 2, 3]\n",
      "[4, 0, 6]\n",
      "[7, 5, 8]\n",
      "Move: Down\n",
      "[1, 2, 3]\n",
      "[4, 5, 6]\n",
      "[7, 0, 8]\n",
      "Move: Right\n",
      "[1, 2, 3]\n",
      "[4, 5, 6]\n",
      "[7, 8, 0]\n"
     ]
    }
   ],
   "source": [
    "# Run the uncommented algorithm call\n",
    "# solution = greedy_search(initial_state, goal_state, heuristic01)\n",
    "# solution = a_star_search(initial_state, goal_state, heuristic01)\n",
    "solution = weighted_a_star_search(initial_state, goal_state, heuristic01, 2)\n",
    "\n",
    "if solution:\n",
    "  print(\"Solution found: \")\n",
    "  print_solution(solution, initial_state)\n",
    "else:\n",
    "  print(\"No solution found.\")"
   ]
  },
  {
   "cell_type": "markdown",
   "metadata": {
    "id": "g0iD7SLZ1zYy"
   },
   "source": [
    "---\n",
    "## Exercise: salesman problem\n",
    "Based on the existing code, implement the solver for the Salesman problem.\n",
    "Please use the example provided in the slides about [informed search](https://docs.google.com/presentation/d/1hF5bexyTH1Tmln6F_Y8IlMq88md3iJHD2AP2fendl3o/edit?usp=sharing) about the best route from Arad to Bucharest."
   ]
  },
  {
   "cell_type": "code",
   "execution_count": null,
   "metadata": {
    "id": "5emgxFfAXla7"
   },
   "outputs": [],
   "source": []
  }
 ],
 "metadata": {
  "colab": {
   "provenance": []
  },
  "kernelspec": {
   "display_name": "Python 3",
   "name": "python3"
  },
  "language_info": {
   "codemirror_mode": {
    "name": "ipython",
    "version": 3
   },
   "file_extension": ".py",
   "mimetype": "text/x-python",
   "name": "python",
   "nbconvert_exporter": "python",
   "pygments_lexer": "ipython3",
   "version": "3.13.0"
  }
 },
 "nbformat": 4,
 "nbformat_minor": 0
}
